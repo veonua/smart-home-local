{
 "cells": [
  {
   "cell_type": "code",
   "execution_count": 9,
   "metadata": {},
   "outputs": [
    {
     "ename": "OSError",
     "evalue": "[Errno 98] Address already in use",
     "output_type": "error",
     "traceback": [
      "\u001b[0;31m---------------------------------------------------------------------------\u001b[0m",
      "\u001b[0;31mOSError\u001b[0m                                   Traceback (most recent call last)",
      "\u001b[0;32m<ipython-input-9-d7606712c2b7>\u001b[0m in \u001b[0;36m<module>\u001b[0;34m\u001b[0m\n\u001b[1;32m      6\u001b[0m \u001b[0mport\u001b[0m \u001b[0;34m=\u001b[0m \u001b[0;36m52129\u001b[0m\u001b[0;34m\u001b[0m\u001b[0;34m\u001b[0m\u001b[0m\n\u001b[1;32m      7\u001b[0m \u001b[0ms\u001b[0m \u001b[0;34m=\u001b[0m \u001b[0msocket\u001b[0m\u001b[0;34m.\u001b[0m\u001b[0msocket\u001b[0m\u001b[0;34m(\u001b[0m\u001b[0msocket\u001b[0m\u001b[0;34m.\u001b[0m\u001b[0mAF_INET\u001b[0m\u001b[0;34m,\u001b[0m \u001b[0msocket\u001b[0m\u001b[0;34m.\u001b[0m\u001b[0mSOCK_DGRAM\u001b[0m\u001b[0;34m)\u001b[0m\u001b[0;34m\u001b[0m\u001b[0;34m\u001b[0m\u001b[0m\n\u001b[0;32m----> 8\u001b[0;31m \u001b[0ms\u001b[0m\u001b[0;34m.\u001b[0m\u001b[0mbind\u001b[0m\u001b[0;34m(\u001b[0m\u001b[0;34m(\u001b[0m\u001b[0;34m\"\"\u001b[0m\u001b[0;34m,\u001b[0m \u001b[0mport\u001b[0m\u001b[0;34m)\u001b[0m\u001b[0;34m)\u001b[0m\u001b[0;34m\u001b[0m\u001b[0;34m\u001b[0m\u001b[0m\n\u001b[0m\u001b[1;32m      9\u001b[0m \u001b[0;34m\u001b[0m\u001b[0m\n\u001b[1;32m     10\u001b[0m \u001b[0;32mdef\u001b[0m \u001b[0mSendData\u001b[0m\u001b[0;34m(\u001b[0m\u001b[0mhex_message\u001b[0m\u001b[0;34m:\u001b[0m\u001b[0mbytes\u001b[0m\u001b[0;34m)\u001b[0m\u001b[0;34m:\u001b[0m\u001b[0;34m\u001b[0m\u001b[0;34m\u001b[0m\u001b[0m\n",
      "\u001b[0;31mOSError\u001b[0m: [Errno 98] Address already in use"
     ]
    }
   ],
   "source": [
    "# > miio discover\n",
    "# Device ID: 260426251\n",
    "# Model info: roborock.vacuum.s5\n",
    "# Address: 192.168.0.235\n",
    "# Token: 793477645152e4839584f77617xxxxx via stored token\n",
    "\n",
    "\n",
    "import socket\n",
    "\n",
    "UDP_IP1 = \"192.168.0.235\"\n",
    "token=bytes.fromhex(\"793477645152e4839584f77617xxxxx\")\n",
    "UDP_PORT = 54321          # used port on external device\n",
    "\n",
    "port = 52129\n",
    "s = socket.socket(socket.AF_INET, socket.SOCK_DGRAM)  \n",
    "s.bind((\"\", port))\n",
    "    \n",
    "def SendData(hex_message:bytes):\n",
    "    msg = hex_message\n",
    "    s.sendto(msg, (UDP_IP1, UDP_PORT))\n",
    "    return s\n",
    "\n",
    "def ReceiveData(sock):\n",
    "    print(\"Receiving data: \\n\")\n",
    "\n",
    "    data, addr = sock.recvfrom(4096)      # buffer size is 4096 bytes\n",
    "    return data\n"
   ]
  },
  {
   "cell_type": "code",
   "execution_count": 41,
   "metadata": {},
   "outputs": [
    {
     "name": "stdout",
     "output_type": "stream",
     "text": [
      "Receiving data: \n",
      "\n",
      "18793 days, 23:19:19.367367\n"
     ]
    },
    {
     "data": {
      "text/plain": [
       "'1970-01-02 19:29:17'"
      ]
     },
     "execution_count": 41,
     "metadata": {},
     "output_type": "execute_result"
    }
   ],
   "source": [
    "# handshake\n",
    "import datetime\n",
    "handshake = bytes.fromhex(\"21310020ffffffffffffffffffffffffffffffffffffffffffffffffffffffff\")\n",
    "SendData(handshake)\n",
    "hs_response = ReceiveData(s)\n",
    "hex_response = hs_response.hex()\n",
    "_device_id = hs_response[8:12]\n",
    "_device_ts = datetime.datetime.utcfromtimestamp(int(hex_response[24:32],16))\n",
    "print (\"time delta: \" + str(datetime.datetime.utcnow() - _device_ts))\n",
    "str(_device_ts)\n",
    "id = 0\n"
   ]
  },
  {
   "cell_type": "code",
   "execution_count": 43,
   "metadata": {},
   "outputs": [],
   "source": [
    "from miio.protocol import Message\n",
    "import json\n",
    "\n"
   ]
  },
  {
   "cell_type": "code",
   "execution_count": 44,
   "metadata": {},
   "outputs": [],
   "source": [
    "send_ts = _device_ts + datetime.timedelta(seconds=4)\n",
    "id += 1\n",
    "\n",
    "header = {\n",
    "    \"length\": 0,\n",
    "    \"unknown\": 0x00000000,\n",
    "    \"device_id\": _device_id,\n",
    "    \"ts\": send_ts,\n",
    "}\n",
    "request = {'id': id, 'method': 'set_tar_temp', 'params': [20]}\n",
    "msg = {\"data\": {\"value\": request}, \"header\": {\"value\": header}, \"checksum\": 0}\n",
    "m = Message.build(msg, token=token)\n",
    "#_LOGGER.debug(\"%s:%s >>: %s\", self.ip, self.port, request)\n",
    "\n",
    "m2 = Message.parse(m, token=token)\n"
   ]
  },
  {
   "cell_type": "code",
   "execution_count": 45,
   "metadata": {
    "scrolled": true
   },
   "outputs": [
    {
     "name": "stdout",
     "output_type": "stream",
     "text": [
      "Receiving data: \n",
      "\n"
     ]
    },
    {
     "data": {
      "text/plain": [
       "{'error': {'code': -32601, 'message': 'Method not found.'}, 'id': 2}"
      ]
     },
     "execution_count": 45,
     "metadata": {},
     "output_type": "execute_result"
    }
   ],
   "source": [
    "SendData(m)\n",
    "m3 = Message.parse(ReceiveData(s), token=token)\n",
    "m3.data.value"
   ]
  },
  {
   "cell_type": "code",
   "execution_count": 59,
   "metadata": {},
   "outputs": [
    {
     "data": {
      "text/plain": [
       "{'id': 4, 'method': 'set_power', 'params': ['off']}"
      ]
     },
     "execution_count": 59,
     "metadata": {},
     "output_type": "execute_result"
    }
   ],
   "source": [
    "p = \"2131005000000000037439e60000108b771322cf1c39dfe62b2de9bb472ccb4562fdb3fcc6f7022ebdc48397b6bdabd934fcb50ca7ea7fdc090de3462fb0014684a33abc4ab37991ddfcac81be47b337\"\n",
    "\n",
    "m = Message.parse( bytes.fromhex(p), token=token)\n",
    "m.data.value"
   ]
  },
  {
   "cell_type": "code",
   "execution_count": 156,
   "metadata": {},
   "outputs": [],
   "source": [
    "data = bytes.fromhex(\"7b226964223a322c226d6574686f64223a226170705f7374617274227d\")"
   ]
  },
  {
   "cell_type": "code",
   "execution_count": 157,
   "metadata": {},
   "outputs": [
    {
     "data": {
      "text/plain": [
       "b'{\"id\":2,\"method\":\"app_start\"}'"
      ]
     },
     "execution_count": 157,
     "metadata": {},
     "output_type": "execute_result"
    }
   ],
   "source": [
    "data"
   ]
  },
  {
   "cell_type": "code",
   "execution_count": 167,
   "metadata": {},
   "outputs": [
    {
     "data": {
      "text/plain": [
       "'91cffb752d05e325045659f06f0c5b3d50d586207d7cc8198c1d2c8a3941cb39372c771a652f083af48958da136424bfad85ca016240d409eff4d9a68f0870af'"
      ]
     },
     "execution_count": 167,
     "metadata": {},
     "output_type": "execute_result"
    }
   ],
   "source": [
    "header = {\n",
    "    \"length\": 0,\n",
    "    \"unknown\": 0x00000000,\n",
    "    \"device_id\": _device_id,\n",
    "    \"ts\": send_ts,\n",
    "}\n",
    "msg = {\"data\": {\"value\": json.loads(data)}, \"header\": {\"value\": header}, \"checksum\": 0}\n",
    "\n",
    "\n",
    "Message.build(msg, token = token).hex()[32:]"
   ]
  },
  {
   "cell_type": "code",
   "execution_count": 65,
   "metadata": {},
   "outputs": [
    {
     "data": {
      "text/plain": [
       "{'prefix': '010000741',\n",
       " 'po': '1',\n",
       " 'mo': '4',\n",
       " 'wi': '3',\n",
       " 'sw': '1',\n",
       " 'tt': '14',\n",
       " 'li': 'A',\n",
       " 'suffix': '1'}"
      ]
     },
     "execution_count": 65,
     "metadata": {},
     "output_type": "execute_result"
    }
   ],
   "source": [
    "# AP Partner packet generator\n",
    "def ppaa(val:str):\n",
    "    return {\n",
    "        'prefix':val[0:9],\n",
    "        'po': val[10],\n",
    "        'mo': val[11],\n",
    "        'wi': val[12],\n",
    "        'sw': val[13],\n",
    "        'tt': val[14:16],\n",
    "        'li': val[16],\n",
    "        'suffix': val[17]\n",
    "    }\n",
    "\n",
    "ppaa(\"0100007411143114A1\") # fail"
   ]
  }
 ],
 "metadata": {
  "kernelspec": {
   "display_name": "Python 3.6.8 64-bit",
   "language": "python",
   "name": "python36864bit1b379bd2861b41ae8c5a2db3c4a8d2b4"
  },
  "language_info": {
   "codemirror_mode": {
    "name": "ipython",
    "version": 3
   },
   "file_extension": ".py",
   "mimetype": "text/x-python",
   "name": "python",
   "nbconvert_exporter": "python",
   "pygments_lexer": "ipython3",
   "version": "3.8.5"
  }
 },
 "nbformat": 4,
 "nbformat_minor": 4
}
